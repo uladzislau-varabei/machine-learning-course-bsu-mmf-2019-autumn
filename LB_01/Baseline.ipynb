{
 "cells": [
  {
   "cell_type": "markdown",
   "metadata": {},
   "source": [
    "# Лабораторная работа №1\n",
    "### Воробей Владислав, 18.09.2019"
   ]
  },
  {
   "cell_type": "code",
   "execution_count": 1,
   "metadata": {},
   "outputs": [],
   "source": [
    "import numpy as np\n",
    "import pandas as pd\n",
    "\n",
    "%matplotlib inline\n",
    "import matplotlib.pyplot as plt"
   ]
  },
  {
   "cell_type": "markdown",
   "metadata": {},
   "source": [
    "## Задание 1"
   ]
  },
  {
   "cell_type": "code",
   "execution_count": 2,
   "metadata": {},
   "outputs": [],
   "source": [
    "full_train = pd.read_csv('Data/Preprocessed/train.csv')\n",
    "test = pd.read_csv('Data/Preprocessed/test.csv')"
   ]
  },
  {
   "cell_type": "code",
   "execution_count": 3,
   "metadata": {},
   "outputs": [
    {
     "data": {
      "text/html": [
       "<div>\n",
       "<style scoped>\n",
       "    .dataframe tbody tr th:only-of-type {\n",
       "        vertical-align: middle;\n",
       "    }\n",
       "\n",
       "    .dataframe tbody tr th {\n",
       "        vertical-align: top;\n",
       "    }\n",
       "\n",
       "    .dataframe thead th {\n",
       "        text-align: right;\n",
       "    }\n",
       "</style>\n",
       "<table border=\"1\" class=\"dataframe\">\n",
       "  <thead>\n",
       "    <tr style=\"text-align: right;\">\n",
       "      <th></th>\n",
       "      <th>Type</th>\n",
       "      <th>Name</th>\n",
       "      <th>Age</th>\n",
       "      <th>Breed1</th>\n",
       "      <th>Breed2</th>\n",
       "      <th>Gender</th>\n",
       "      <th>Color1</th>\n",
       "      <th>Color2</th>\n",
       "      <th>Color3</th>\n",
       "      <th>MaturitySize</th>\n",
       "      <th>...</th>\n",
       "      <th>Sterilized</th>\n",
       "      <th>Health</th>\n",
       "      <th>Quantity</th>\n",
       "      <th>Fee</th>\n",
       "      <th>State</th>\n",
       "      <th>RescuerID</th>\n",
       "      <th>VideoAmt</th>\n",
       "      <th>Description</th>\n",
       "      <th>PhotoAmt</th>\n",
       "      <th>AdoptionSpeed</th>\n",
       "    </tr>\n",
       "  </thead>\n",
       "  <tbody>\n",
       "    <tr>\n",
       "      <th>0</th>\n",
       "      <td>Dog</td>\n",
       "      <td>NaN</td>\n",
       "      <td>2</td>\n",
       "      <td>Mixed Breed</td>\n",
       "      <td>Mixed Breed</td>\n",
       "      <td>2</td>\n",
       "      <td>Black</td>\n",
       "      <td>Brown</td>\n",
       "      <td>White</td>\n",
       "      <td>2</td>\n",
       "      <td>...</td>\n",
       "      <td>3</td>\n",
       "      <td>1</td>\n",
       "      <td>4</td>\n",
       "      <td>0</td>\n",
       "      <td>Melaka</td>\n",
       "      <td>59dd5e67149bb16fade497f16f091194</td>\n",
       "      <td>0</td>\n",
       "      <td>Kindly contact us if anyone is interested in a...</td>\n",
       "      <td>4</td>\n",
       "      <td>4</td>\n",
       "    </tr>\n",
       "    <tr>\n",
       "      <th>1</th>\n",
       "      <td>Dog</td>\n",
       "      <td>F9</td>\n",
       "      <td>2</td>\n",
       "      <td>Mixed Breed</td>\n",
       "      <td>Mixed Breed</td>\n",
       "      <td>2</td>\n",
       "      <td>Cream</td>\n",
       "      <td>Not_applied</td>\n",
       "      <td>Not_applied</td>\n",
       "      <td>2</td>\n",
       "      <td>...</td>\n",
       "      <td>2</td>\n",
       "      <td>1</td>\n",
       "      <td>1</td>\n",
       "      <td>0</td>\n",
       "      <td>Selangor</td>\n",
       "      <td>b53c34474d9e24574bcec6a3d3306a0d</td>\n",
       "      <td>0</td>\n",
       "      <td>For Adoption</td>\n",
       "      <td>4</td>\n",
       "      <td>2</td>\n",
       "    </tr>\n",
       "    <tr>\n",
       "      <th>2</th>\n",
       "      <td>Cat</td>\n",
       "      <td>Dylan</td>\n",
       "      <td>3</td>\n",
       "      <td>Domestic Medium Hair</td>\n",
       "      <td>Not_applied</td>\n",
       "      <td>1</td>\n",
       "      <td>Black</td>\n",
       "      <td>White</td>\n",
       "      <td>Not_applied</td>\n",
       "      <td>3</td>\n",
       "      <td>...</td>\n",
       "      <td>2</td>\n",
       "      <td>1</td>\n",
       "      <td>1</td>\n",
       "      <td>0</td>\n",
       "      <td>Kuala Lumpur</td>\n",
       "      <td>5be13320d12dc6478d94268d6e103e56</td>\n",
       "      <td>0</td>\n",
       "      <td>Didn't know mother cat was pregnant when we to...</td>\n",
       "      <td>6</td>\n",
       "      <td>2</td>\n",
       "    </tr>\n",
       "  </tbody>\n",
       "</table>\n",
       "<p>3 rows × 23 columns</p>\n",
       "</div>"
      ],
      "text/plain": [
       "  Type   Name  Age                Breed1       Breed2  Gender Color1  \\\n",
       "0  Dog    NaN    2           Mixed Breed  Mixed Breed       2  Black   \n",
       "1  Dog     F9    2           Mixed Breed  Mixed Breed       2  Cream   \n",
       "2  Cat  Dylan    3  Domestic Medium Hair  Not_applied       1  Black   \n",
       "\n",
       "        Color2       Color3  MaturitySize  ...  Sterilized  Health  Quantity  \\\n",
       "0        Brown        White             2  ...           3       1         4   \n",
       "1  Not_applied  Not_applied             2  ...           2       1         1   \n",
       "2        White  Not_applied             3  ...           2       1         1   \n",
       "\n",
       "   Fee         State                         RescuerID  VideoAmt  \\\n",
       "0    0        Melaka  59dd5e67149bb16fade497f16f091194         0   \n",
       "1    0      Selangor  b53c34474d9e24574bcec6a3d3306a0d         0   \n",
       "2    0  Kuala Lumpur  5be13320d12dc6478d94268d6e103e56         0   \n",
       "\n",
       "                                         Description PhotoAmt  AdoptionSpeed  \n",
       "0  Kindly contact us if anyone is interested in a...        4              4  \n",
       "1                                       For Adoption        4              2  \n",
       "2  Didn't know mother cat was pregnant when we to...        6              2  \n",
       "\n",
       "[3 rows x 23 columns]"
      ]
     },
     "execution_count": 3,
     "metadata": {},
     "output_type": "execute_result"
    }
   ],
   "source": [
    "full_train.head(3)"
   ]
  },
  {
   "cell_type": "code",
   "execution_count": 4,
   "metadata": {},
   "outputs": [],
   "source": [
    "# Выделение целевой переменной\n",
    "train_y = full_train['AdoptionSpeed']\n",
    "train = full_train.drop(['AdoptionSpeed'], axis=1)"
   ]
  },
  {
   "cell_type": "code",
   "execution_count": 5,
   "metadata": {},
   "outputs": [
    {
     "name": "stdout",
     "output_type": "stream",
     "text": [
      "Train shape: (11300, 22)\n",
      "Test shape: (2826, 22)\n"
     ]
    }
   ],
   "source": [
    "print('Train shape:', train.shape)\n",
    "print('Test shape:', test.shape)"
   ]
  },
  {
   "cell_type": "code",
   "execution_count": 6,
   "metadata": {},
   "outputs": [
    {
     "data": {
      "image/png": "[encoded data removed]",
      "text/plain": [
       "<Figure size 504x360 with 1 Axes>"
      ]
     },
     "metadata": {
      "needs_background": "light"
     },
     "output_type": "display_data"
    }
   ],
   "source": [
    "classes_freqs = train_y.value_counts(True)\n",
    "classes_freqs = {idx: v for idx, v in zip(classes_freqs.index, classes_freqs.values)}\n",
    "\n",
    "n_classes = len(classes_freqs.keys())\n",
    "\n",
    "plt.figure(figsize=(7,5))\n",
    "plt.bar(\n",
    "    x=list(range(n_classes)),\n",
    "    height=[classes_freqs[x] for x in range(n_classes)]\n",
    ")\n",
    "plt.xlabel('Class', fontsize=12)\n",
    "plt.title(\"Target class frequencies\")\n",
    "plt.grid(alpha=0.2)\n",
    "plt.show()"
   ]
  },
  {
   "cell_type": "code",
   "execution_count": 7,
   "metadata": {},
   "outputs": [
    {
     "data": {
      "text/html": [
       "<div>\n",
       "<style scoped>\n",
       "    .dataframe tbody tr th:only-of-type {\n",
       "        vertical-align: middle;\n",
       "    }\n",
       "\n",
       "    .dataframe tbody tr th {\n",
       "        vertical-align: top;\n",
       "    }\n",
       "\n",
       "    .dataframe thead th {\n",
       "        text-align: right;\n",
       "    }\n",
       "</style>\n",
       "<table border=\"1\" class=\"dataframe\">\n",
       "  <thead>\n",
       "    <tr style=\"text-align: right;\">\n",
       "      <th></th>\n",
       "      <th>Age</th>\n",
       "      <th>Gender</th>\n",
       "      <th>MaturitySize</th>\n",
       "      <th>FurLength</th>\n",
       "      <th>Vaccinated</th>\n",
       "      <th>Dewormed</th>\n",
       "      <th>Sterilized</th>\n",
       "      <th>Health</th>\n",
       "      <th>Quantity</th>\n",
       "      <th>Fee</th>\n",
       "      <th>VideoAmt</th>\n",
       "      <th>PhotoAmt</th>\n",
       "    </tr>\n",
       "  </thead>\n",
       "  <tbody>\n",
       "    <tr>\n",
       "      <th>count</th>\n",
       "      <td>11300.000000</td>\n",
       "      <td>11300.000000</td>\n",
       "      <td>11300.000000</td>\n",
       "      <td>11300.000000</td>\n",
       "      <td>11300.000000</td>\n",
       "      <td>11300.000000</td>\n",
       "      <td>11300.000000</td>\n",
       "      <td>11300.000000</td>\n",
       "      <td>11300.000000</td>\n",
       "      <td>11300.000000</td>\n",
       "      <td>11300.000000</td>\n",
       "      <td>11300.000000</td>\n",
       "    </tr>\n",
       "    <tr>\n",
       "      <th>mean</th>\n",
       "      <td>10.579469</td>\n",
       "      <td>1.769735</td>\n",
       "      <td>1.869115</td>\n",
       "      <td>1.458496</td>\n",
       "      <td>1.719469</td>\n",
       "      <td>1.549469</td>\n",
       "      <td>1.904779</td>\n",
       "      <td>1.036195</td>\n",
       "      <td>1.569204</td>\n",
       "      <td>21.656372</td>\n",
       "      <td>0.058230</td>\n",
       "      <td>3.927168</td>\n",
       "    </tr>\n",
       "    <tr>\n",
       "      <th>std</th>\n",
       "      <td>18.528445</td>\n",
       "      <td>0.679361</td>\n",
       "      <td>0.540871</td>\n",
       "      <td>0.598072</td>\n",
       "      <td>0.668585</td>\n",
       "      <td>0.694468</td>\n",
       "      <td>0.563794</td>\n",
       "      <td>0.197828</td>\n",
       "      <td>1.468098</td>\n",
       "      <td>80.498608</td>\n",
       "      <td>0.353216</td>\n",
       "      <td>3.558310</td>\n",
       "    </tr>\n",
       "    <tr>\n",
       "      <th>min</th>\n",
       "      <td>0.000000</td>\n",
       "      <td>1.000000</td>\n",
       "      <td>1.000000</td>\n",
       "      <td>1.000000</td>\n",
       "      <td>1.000000</td>\n",
       "      <td>1.000000</td>\n",
       "      <td>1.000000</td>\n",
       "      <td>1.000000</td>\n",
       "      <td>1.000000</td>\n",
       "      <td>0.000000</td>\n",
       "      <td>0.000000</td>\n",
       "      <td>0.000000</td>\n",
       "    </tr>\n",
       "    <tr>\n",
       "      <th>25%</th>\n",
       "      <td>2.000000</td>\n",
       "      <td>1.000000</td>\n",
       "      <td>2.000000</td>\n",
       "      <td>1.000000</td>\n",
       "      <td>1.000000</td>\n",
       "      <td>1.000000</td>\n",
       "      <td>2.000000</td>\n",
       "      <td>1.000000</td>\n",
       "      <td>1.000000</td>\n",
       "      <td>0.000000</td>\n",
       "      <td>0.000000</td>\n",
       "      <td>2.000000</td>\n",
       "    </tr>\n",
       "    <tr>\n",
       "      <th>50%</th>\n",
       "      <td>3.000000</td>\n",
       "      <td>2.000000</td>\n",
       "      <td>2.000000</td>\n",
       "      <td>1.000000</td>\n",
       "      <td>2.000000</td>\n",
       "      <td>1.000000</td>\n",
       "      <td>2.000000</td>\n",
       "      <td>1.000000</td>\n",
       "      <td>1.000000</td>\n",
       "      <td>0.000000</td>\n",
       "      <td>0.000000</td>\n",
       "      <td>3.000000</td>\n",
       "    </tr>\n",
       "    <tr>\n",
       "      <th>75%</th>\n",
       "      <td>11.000000</td>\n",
       "      <td>2.000000</td>\n",
       "      <td>2.000000</td>\n",
       "      <td>2.000000</td>\n",
       "      <td>2.000000</td>\n",
       "      <td>2.000000</td>\n",
       "      <td>2.000000</td>\n",
       "      <td>1.000000</td>\n",
       "      <td>1.000000</td>\n",
       "      <td>0.000000</td>\n",
       "      <td>0.000000</td>\n",
       "      <td>5.000000</td>\n",
       "    </tr>\n",
       "    <tr>\n",
       "      <th>max</th>\n",
       "      <td>255.000000</td>\n",
       "      <td>3.000000</td>\n",
       "      <td>4.000000</td>\n",
       "      <td>3.000000</td>\n",
       "      <td>3.000000</td>\n",
       "      <td>3.000000</td>\n",
       "      <td>3.000000</td>\n",
       "      <td>3.000000</td>\n",
       "      <td>20.000000</td>\n",
       "      <td>3000.000000</td>\n",
       "      <td>8.000000</td>\n",
       "      <td>30.000000</td>\n",
       "    </tr>\n",
       "  </tbody>\n",
       "</table>\n",
       "</div>"
      ],
      "text/plain": [
       "                Age        Gender  MaturitySize     FurLength    Vaccinated  \\\n",
       "count  11300.000000  11300.000000  11300.000000  11300.000000  11300.000000   \n",
       "mean      10.579469      1.769735      1.869115      1.458496      1.719469   \n",
       "std       18.528445      0.679361      0.540871      0.598072      0.668585   \n",
       "min        0.000000      1.000000      1.000000      1.000000      1.000000   \n",
       "25%        2.000000      1.000000      2.000000      1.000000      1.000000   \n",
       "50%        3.000000      2.000000      2.000000      1.000000      2.000000   \n",
       "75%       11.000000      2.000000      2.000000      2.000000      2.000000   \n",
       "max      255.000000      3.000000      4.000000      3.000000      3.000000   \n",
       "\n",
       "           Dewormed    Sterilized        Health      Quantity           Fee  \\\n",
       "count  11300.000000  11300.000000  11300.000000  11300.000000  11300.000000   \n",
       "mean       1.549469      1.904779      1.036195      1.569204     21.656372   \n",
       "std        0.694468      0.563794      0.197828      1.468098     80.498608   \n",
       "min        1.000000      1.000000      1.000000      1.000000      0.000000   \n",
       "25%        1.000000      2.000000      1.000000      1.000000      0.000000   \n",
       "50%        1.000000      2.000000      1.000000      1.000000      0.000000   \n",
       "75%        2.000000      2.000000      1.000000      1.000000      0.000000   \n",
       "max        3.000000      3.000000      3.000000     20.000000   3000.000000   \n",
       "\n",
       "           VideoAmt      PhotoAmt  \n",
       "count  11300.000000  11300.000000  \n",
       "mean       0.058230      3.927168  \n",
       "std        0.353216      3.558310  \n",
       "min        0.000000      0.000000  \n",
       "25%        0.000000      2.000000  \n",
       "50%        0.000000      3.000000  \n",
       "75%        0.000000      5.000000  \n",
       "max        8.000000     30.000000  "
      ]
     },
     "execution_count": 7,
     "metadata": {},
     "output_type": "execute_result"
    }
   ],
   "source": [
    "train.describe()"
   ]
  },
  {
   "cell_type": "code",
   "execution_count": 8,
   "metadata": {},
   "outputs": [
    {
     "data": {
      "text/plain": [
       "Dog    6285\n",
       "Cat    5015\n",
       "Name: Type, dtype: int64"
      ]
     },
     "execution_count": 8,
     "metadata": {},
     "output_type": "execute_result"
    }
   ],
   "source": [
    "# Количество записей для каждого значения в колонке 'Type'\n",
    "train['Type'].value_counts()"
   ]
  },
  {
   "cell_type": "code",
   "execution_count": 9,
   "metadata": {},
   "outputs": [
    {
     "data": {
      "text/plain": [
       "Black     0.492478\n",
       "Brown     0.253540\n",
       "Golden    0.063717\n",
       "Name: Color1, dtype: float64"
      ]
     },
     "execution_count": 9,
     "metadata": {},
     "output_type": "execute_result"
    }
   ],
   "source": [
    "# Доли значений в колонке 'Color1'\n",
    "train['Color1'].value_counts(True).head(3)"
   ]
  },
  {
   "cell_type": "code",
   "execution_count": 10,
   "metadata": {},
   "outputs": [
    {
     "data": {
      "image/png": "[encoded data removed]",
      "text/plain": [
       "<Figure size 2250x750 with 2 Axes>"
      ]
     },
     "metadata": {
      "needs_background": "light"
     },
     "output_type": "display_data"
    }
   ],
   "source": [
    "x1 = train['Description'].apply(lambda x: len(str(x).split()))\n",
    "x2 = test['Description'].apply(lambda x: len(str(x).split()))\n",
    "\n",
    "fig, (ax1, ax2) = plt.subplots(nrows=1, ncols=2, figsize=(15,5), dpi=150)\n",
    "\n",
    "ax1.hist(x1, bins=50, density=True, alpha=0.8, label='Train')\n",
    "ax1.hist(x2, bins=50, density=True, color='g', alpha=0.4, label='Test')\n",
    "ax1.legend()\n",
    "ax1.set_title(\"Number of words in Description\")\n",
    "ax1.grid(alpha=0.2, linestyle='--')\n",
    "\n",
    "ax2.hist(x1, bins=20, range=(0, 200), density=True, alpha=0.8, label='Train')\n",
    "ax2.hist(x2, bins=20, range=(0, 200), density=True, color='g', alpha=0.4, label='Test')\n",
    "ax2.legend()\n",
    "ax2.set_title(\"Number of words in Description (no tail)\")\n",
    "ax2.grid(alpha=0.2, linestyle='--')\n",
    "\n",
    "plt.show()"
   ]
  },
  {
   "cell_type": "markdown",
   "metadata": {},
   "source": [
    "## Задание 2"
   ]
  },
  {
   "cell_type": "code",
   "execution_count": 11,
   "metadata": {},
   "outputs": [],
   "source": [
    "def create_feature_df(feature_series, fraction_threshold=None):   \n",
    "    column_name = feature_series.name\n",
    "    \n",
    "    if fraction_threshold is not None:\n",
    "        used_feature_values = []\n",
    "        total_fraction = 0.\n",
    "\n",
    "        fracs = feature_series.value_counts(True)\n",
    "        for idx, val in zip(fracs.index, fracs.values):\n",
    "\n",
    "            used_feature_values.append(idx)\n",
    "            total_fraction += val\n",
    "\n",
    "            if total_fraction > fraction_threshold:\n",
    "                break  \n",
    "\n",
    "        new_feature_series = feature_series.apply(lambda x: x if x in used_feature_values else 'Other')\n",
    "\n",
    "        print(\"For feature '%s'\" % column_name, \"the following values will be used:\", used_feature_values) \n",
    "    else:\n",
    "        new_feature_series = feature_series\n",
    "        \n",
    "    feature_df = pd.get_dummies(new_feature_series)\n",
    "    # Rename new feature columns\n",
    "    feature_df.rename(columns={col: column_name + '_' + col for col in feature_df.columns}, inplace=True)\n",
    "        \n",
    "    return feature_df\n",
    "\n",
    "\n",
    "def preprocess_data(train_data, test_data, fraction_threshold=0.8, ignored_categorical_cols=[]):\n",
    "    train_size = train_data.shape[0]\n",
    "    \n",
    "    full_df = pd.concat([train_data, test_data])\n",
    "        \n",
    "    # Find numeric columns\n",
    "    numeric_cols = []\n",
    "    for col, dtype in zip(full_df.columns, full_df.dtypes):\n",
    "        if 'int' in str(dtype) or 'float' in str(dtype):\n",
    "            numeric_cols.append(col)\n",
    "    \n",
    "    # Start building new dataframe\n",
    "    preprocessed_df = full_df[numeric_cols] \n",
    "    \n",
    "    # Process categorical features\n",
    "    categorical_features = []\n",
    "    ignored_features = set(numeric_cols + ignored_categorical_cols)\n",
    "    for col in full_df.columns:\n",
    "        if col not in ignored_features:\n",
    "            categorical_features.append(col)\n",
    "    \n",
    "    for col in categorical_features:\n",
    "        print(\"\\nProcessing feature '%s'\" % col, \"...\")\n",
    "        new_feature_df = create_feature_df(full_df[col], fraction_threshold=fraction_threshold)\n",
    "        preprocessed_df = pd.concat([preprocessed_df, new_feature_df], axis=1)\n",
    "    print(\"Finished processing categorical features!\\n\")\n",
    "    \n",
    "    # Add custom preprocessing here\n",
    "\n",
    "    new_train = preprocessed_df.iloc[:train_size]\n",
    "    new_test = preprocessed_df.iloc[train_size:]\n",
    "    \n",
    "    return new_train, new_test"
   ]
  },
  {
   "cell_type": "code",
   "execution_count": 12,
   "metadata": {},
   "outputs": [
    {
     "name": "stdout",
     "output_type": "stream",
     "text": [
      "For feature 'Color1' the following values will be used: ['Black', 'Brown', 'Golden', 'Cream']\n"
     ]
    },
    {
     "data": {
      "text/html": [
       "<div>\n",
       "<style scoped>\n",
       "    .dataframe tbody tr th:only-of-type {\n",
       "        vertical-align: middle;\n",
       "    }\n",
       "\n",
       "    .dataframe tbody tr th {\n",
       "        vertical-align: top;\n",
       "    }\n",
       "\n",
       "    .dataframe thead th {\n",
       "        text-align: right;\n",
       "    }\n",
       "</style>\n",
       "<table border=\"1\" class=\"dataframe\">\n",
       "  <thead>\n",
       "    <tr style=\"text-align: right;\">\n",
       "      <th></th>\n",
       "      <th>Color1_Black</th>\n",
       "      <th>Color1_Brown</th>\n",
       "      <th>Color1_Cream</th>\n",
       "      <th>Color1_Golden</th>\n",
       "      <th>Color1_Other</th>\n",
       "    </tr>\n",
       "  </thead>\n",
       "  <tbody>\n",
       "    <tr>\n",
       "      <th>0</th>\n",
       "      <td>1</td>\n",
       "      <td>0</td>\n",
       "      <td>0</td>\n",
       "      <td>0</td>\n",
       "      <td>0</td>\n",
       "    </tr>\n",
       "    <tr>\n",
       "      <th>1</th>\n",
       "      <td>0</td>\n",
       "      <td>0</td>\n",
       "      <td>1</td>\n",
       "      <td>0</td>\n",
       "      <td>0</td>\n",
       "    </tr>\n",
       "    <tr>\n",
       "      <th>2</th>\n",
       "      <td>1</td>\n",
       "      <td>0</td>\n",
       "      <td>0</td>\n",
       "      <td>0</td>\n",
       "      <td>0</td>\n",
       "    </tr>\n",
       "    <tr>\n",
       "      <th>3</th>\n",
       "      <td>1</td>\n",
       "      <td>0</td>\n",
       "      <td>0</td>\n",
       "      <td>0</td>\n",
       "      <td>0</td>\n",
       "    </tr>\n",
       "    <tr>\n",
       "      <th>4</th>\n",
       "      <td>1</td>\n",
       "      <td>0</td>\n",
       "      <td>0</td>\n",
       "      <td>0</td>\n",
       "      <td>0</td>\n",
       "    </tr>\n",
       "    <tr>\n",
       "      <th>5</th>\n",
       "      <td>1</td>\n",
       "      <td>0</td>\n",
       "      <td>0</td>\n",
       "      <td>0</td>\n",
       "      <td>0</td>\n",
       "    </tr>\n",
       "    <tr>\n",
       "      <th>6</th>\n",
       "      <td>0</td>\n",
       "      <td>0</td>\n",
       "      <td>0</td>\n",
       "      <td>0</td>\n",
       "      <td>1</td>\n",
       "    </tr>\n",
       "    <tr>\n",
       "      <th>7</th>\n",
       "      <td>0</td>\n",
       "      <td>0</td>\n",
       "      <td>0</td>\n",
       "      <td>0</td>\n",
       "      <td>1</td>\n",
       "    </tr>\n",
       "    <tr>\n",
       "      <th>8</th>\n",
       "      <td>0</td>\n",
       "      <td>1</td>\n",
       "      <td>0</td>\n",
       "      <td>0</td>\n",
       "      <td>0</td>\n",
       "    </tr>\n",
       "    <tr>\n",
       "      <th>9</th>\n",
       "      <td>0</td>\n",
       "      <td>0</td>\n",
       "      <td>0</td>\n",
       "      <td>1</td>\n",
       "      <td>0</td>\n",
       "    </tr>\n",
       "  </tbody>\n",
       "</table>\n",
       "</div>"
      ],
      "text/plain": [
       "   Color1_Black  Color1_Brown  Color1_Cream  Color1_Golden  Color1_Other\n",
       "0             1             0             0              0             0\n",
       "1             0             0             1              0             0\n",
       "2             1             0             0              0             0\n",
       "3             1             0             0              0             0\n",
       "4             1             0             0              0             0\n",
       "5             1             0             0              0             0\n",
       "6             0             0             0              0             1\n",
       "7             0             0             0              0             1\n",
       "8             0             1             0              0             0\n",
       "9             0             0             0              1             0"
      ]
     },
     "execution_count": 12,
     "metadata": {},
     "output_type": "execute_result"
    }
   ],
   "source": [
    "# Пример использования функции create_feature_df\n",
    "create_feature_df(train['Color1'], fraction_threshold=0.85).head(10)"
   ]
  },
  {
   "cell_type": "code",
   "execution_count": 13,
   "metadata": {},
   "outputs": [
    {
     "name": "stdout",
     "output_type": "stream",
     "text": [
      "\n",
      "Processing feature 'Type' ...\n",
      "For feature 'Type' the following values will be used: ['Dog', 'Cat']\n",
      "\n",
      "Processing feature 'Breed1' ...\n",
      "For feature 'Breed1' the following values will be used: ['Mixed Breed', 'Domestic Short Hair', 'Domestic Medium Hair', 'Tabby', 'Domestic Long Hair', 'Siamese', 'Labrador Retriever', 'Persian']\n",
      "\n",
      "Processing feature 'Breed2' ...\n",
      "For feature 'Breed2' the following values will be used: ['Not_applied', 'Mixed Breed']\n",
      "\n",
      "Processing feature 'Color1' ...\n",
      "For feature 'Color1' the following values will be used: ['Black', 'Brown', 'Golden']\n",
      "\n",
      "Processing feature 'Color2' ...\n",
      "For feature 'Color2' the following values will be used: ['Not_applied', 'White', 'Brown', 'Cream']\n",
      "\n",
      "Processing feature 'Color3' ...\n",
      "For feature 'Color3' the following values will be used: ['Not_applied', 'White']\n",
      "\n",
      "Processing feature 'State' ...\n",
      "For feature 'State' the following values will be used: ['Selangor', 'Kuala Lumpur']\n",
      "Finished processing categorical features!\n",
      "\n",
      "Wall time: 83 ms\n"
     ]
    }
   ],
   "source": [
    "%%time\n",
    "\n",
    "# Полная предобработка признаков для train и test\n",
    "\n",
    "ignored_categorical_cols = ['Description', 'RescuerID', 'Name']\n",
    "\n",
    "train_x, test_x = preprocess_data(\n",
    "    train, test, fraction_threshold=0.8, ignored_categorical_cols=ignored_categorical_cols\n",
    ")"
   ]
  },
  {
   "cell_type": "code",
   "execution_count": 14,
   "metadata": {},
   "outputs": [
    {
     "name": "stdout",
     "output_type": "stream",
     "text": [
      "Preprocessed train shape: (11300, 41)\n",
      "Preprocessed test shape: (2826, 41)\n"
     ]
    }
   ],
   "source": [
    "print(\"Preprocessed train shape:\", train_x.shape)\n",
    "print(\"Preprocessed test shape:\", test_x.shape)"
   ]
  },
  {
   "cell_type": "markdown",
   "metadata": {},
   "source": [
    "### Нормирование данных"
   ]
  },
  {
   "cell_type": "code",
   "execution_count": 15,
   "metadata": {},
   "outputs": [],
   "source": [
    "from sklearn.preprocessing import StandardScaler"
   ]
  },
  {
   "cell_type": "code",
   "execution_count": 16,
   "metadata": {},
   "outputs": [
    {
     "name": "stdout",
     "output_type": "stream",
     "text": [
      "Wall time: 39 ms\n"
     ]
    },
    {
     "name": "stderr",
     "output_type": "stream",
     "text": [
      "C:\\ProgramData\\Anaconda3\\envs\\tensorflow\\lib\\site-packages\\sklearn\\preprocessing\\data.py:625: DataConversionWarning: Data with input dtype uint8, int64 were all converted to float64 by StandardScaler.\n",
      "  return self.partial_fit(X, y)\n",
      "C:\\ProgramData\\Anaconda3\\envs\\tensorflow\\lib\\site-packages\\sklearn\\base.py:462: DataConversionWarning: Data with input dtype uint8, int64 were all converted to float64 by StandardScaler.\n",
      "  return self.fit(X, **fit_params).transform(X)\n",
      "C:\\ProgramData\\Anaconda3\\envs\\tensorflow\\lib\\site-packages\\ipykernel_launcher.py:6: DataConversionWarning: Data with input dtype uint8, int64 were all converted to float64 by StandardScaler.\n",
      "  \n"
     ]
    }
   ],
   "source": [
    "%%time\n",
    "\n",
    "scaler = StandardScaler()\n",
    "\n",
    "# Сперва стандартизируется тренировочный набор, а затем полученная информация используется для тестовых данных\n",
    "train_x_scaled = scaler.fit_transform(train_x)\n",
    "test_x_scaled = scaler.transform(test_x)"
   ]
  },
  {
   "cell_type": "markdown",
   "metadata": {},
   "source": [
    "### Кросс-валидация"
   ]
  },
  {
   "cell_type": "code",
   "execution_count": 17,
   "metadata": {},
   "outputs": [],
   "source": [
    "from sklearn.model_selection import cross_val_score\n",
    "from lightgbm import LGBMClassifier"
   ]
  },
  {
   "cell_type": "code",
   "execution_count": 18,
   "metadata": {},
   "outputs": [],
   "source": [
    "lgbm_clf = LGBMClassifier(\n",
    "    random_state=42,\n",
    "    n_jobs=-1\n",
    ")"
   ]
  },
  {
   "cell_type": "code",
   "execution_count": 19,
   "metadata": {},
   "outputs": [
    {
     "name": "stdout",
     "output_type": "stream",
     "text": [
      "Wall time: 6.64 s\n"
     ]
    }
   ],
   "source": [
    "%%time\n",
    "cv_scores = cross_val_score(lgbm_clf, train_x, train_y, scoring='accuracy', cv=10, n_jobs=1)"
   ]
  },
  {
   "cell_type": "code",
   "execution_count": 20,
   "metadata": {},
   "outputs": [
    {
     "name": "stdout",
     "output_type": "stream",
     "text": [
      "Results for LightGBM: mean=0.396979, std=0.014560\n"
     ]
    }
   ],
   "source": [
    "print(\"Results for LightGBM: mean={:0.6f}, std={:0.6f}\".format(cv_scores.mean(), cv_scores.std()))"
   ]
  },
  {
   "cell_type": "code",
   "execution_count": 21,
   "metadata": {},
   "outputs": [],
   "source": [
    "# Для проведения кросс-валидации со стандартизацией данных удобно использовать sklearn.pipeline.Pipeline"
   ]
  },
  {
   "cell_type": "markdown",
   "metadata": {},
   "source": [
    "## Задание 3"
   ]
  },
  {
   "cell_type": "code",
   "execution_count": 22,
   "metadata": {},
   "outputs": [],
   "source": [
    "from sklearn.feature_extraction.text import CountVectorizer"
   ]
  },
  {
   "cell_type": "code",
   "execution_count": 23,
   "metadata": {},
   "outputs": [],
   "source": [
    "count_vect = CountVectorizer(\n",
    "    ngram_range=(1, 3),\n",
    "    analyzer='word',\n",
    "    min_df=3\n",
    ")"
   ]
  },
  {
   "cell_type": "code",
   "execution_count": 24,
   "metadata": {},
   "outputs": [
    {
     "name": "stdout",
     "output_type": "stream",
     "text": [
      "Wall time: 6.13 s\n"
     ]
    }
   ],
   "source": [
    "%%time\n",
    "cvect_train_transformed = count_vect.fit_transform(train['Description'])\n",
    "cvect_test_transformed = count_vect.transform(test['Description'])"
   ]
  },
  {
   "cell_type": "code",
   "execution_count": 25,
   "metadata": {},
   "outputs": [],
   "source": [
    "# Подсчет вхождений каждого словосочетания в train/test\n",
    "cvect_features = np.array(count_vect.get_feature_names())\n",
    "cvect_train_sum = np.array(cvect_train_transformed.sum(axis=0).tolist()[0])\n",
    "cvect_test_sum = np.array(cvect_test_transformed.sum(axis=0).tolist()[0])\n",
    "\n",
    "n_top = 50\n",
    "\n",
    "# Выбор n_top наиболее популярных значений для train/test\n",
    "train_sum_order = np.argsort(cvect_train_sum)[::-1]\n",
    "train_top_features = cvect_features[train_sum_order][:n_top]\n",
    "train_top_sum = cvect_train_sum[train_sum_order][:n_top]\n",
    "\n",
    "test_sum_order = np.argsort(cvect_test_sum)[::-1]\n",
    "test_top_features = cvect_features[test_sum_order][:n_top]\n",
    "test_top_sum = cvect_test_sum[test_sum_order][:n_top]"
   ]
  },
  {
   "cell_type": "code",
   "execution_count": 26,
   "metadata": {},
   "outputs": [
    {
     "data": {
      "image/png": "[encoded data removed]",
      "text/plain": [
       "<Figure size 2400x1800 with 2 Axes>"
      ]
     },
     "metadata": {
      "needs_background": "light"
     },
     "output_type": "display_data"
    }
   ],
   "source": [
    "fig, (ax1, ax2) = plt.subplots(nrows=1, ncols=2, figsize=(16,12), dpi=150)\n",
    "\n",
    "# Для отображения столбцов по убыванию сверху-вниз нужно брать все значения в обратном порядке\n",
    "\n",
    "ax1.barh(range(n_top), train_top_sum[::-1])\n",
    "ax1.grid(alpha=0.2)\n",
    "ax1.set_title(\"Top words for Train\", fontsize=14)\n",
    "ax1.set_yticks(range(n_top))\n",
    "ax1.set_yticklabels(train_top_features[::-1])\n",
    "\n",
    "ax2.barh(range(n_top), test_top_sum[::-1])\n",
    "ax2.grid(alpha=0.2)\n",
    "ax2.set_title(\"Top words for Test\", fontsize=14)\n",
    "ax2.set_yticks(range(n_top))\n",
    "ax2.set_yticklabels(test_top_features[::-1])\n",
    "\n",
    "plt.show()"
   ]
  },
  {
   "cell_type": "markdown",
   "metadata": {},
   "source": [
    "### Кросс-валидация модели"
   ]
  },
  {
   "cell_type": "code",
   "execution_count": 27,
   "metadata": {},
   "outputs": [],
   "source": [
    "from sklearn.naive_bayes import MultinomialNB\n",
    "from sklearn.pipeline import Pipeline"
   ]
  },
  {
   "cell_type": "code",
   "execution_count": 28,
   "metadata": {},
   "outputs": [],
   "source": [
    "count_vect = CountVectorizer(\n",
    "    ngram_range=(1, 3),\n",
    "    analyzer='word',\n",
    "    min_df=3\n",
    ")\n",
    "\n",
    "multi_nb = MultinomialNB()\n",
    "\n",
    "text_clf = Pipeline([\n",
    "    ('vect', count_vect),\n",
    "    ('clf', multi_nb),\n",
    "])"
   ]
  },
  {
   "cell_type": "code",
   "execution_count": 29,
   "metadata": {},
   "outputs": [
    {
     "name": "stdout",
     "output_type": "stream",
     "text": [
      "Wall time: 43.1 s\n"
     ]
    }
   ],
   "source": [
    "%%time\n",
    "cv_scores = cross_val_score(text_clf, train['Description'], train_y, scoring='accuracy', cv=10, n_jobs=1)"
   ]
  },
  {
   "cell_type": "code",
   "execution_count": 30,
   "metadata": {},
   "outputs": [
    {
     "name": "stdout",
     "output_type": "stream",
     "text": [
      "Results for CountVectorizer with MultinomialNB on profile text description: mean=0.379201, std=0.009155\n"
     ]
    }
   ],
   "source": [
    "print(\n",
    "    \"Results for CountVectorizer with MultinomialNB on profile text description: mean={:0.6f}, std={:0.6f}\".format(\n",
    "        cv_scores.mean(), cv_scores.std()\n",
    "    )\n",
    ")"
   ]
  },
  {
   "cell_type": "markdown",
   "metadata": {},
   "source": [
    "## Построение прогнозов"
   ]
  },
  {
   "cell_type": "code",
   "execution_count": 31,
   "metadata": {},
   "outputs": [],
   "source": [
    "lgbm_clf = LGBMClassifier(\n",
    "    random_state=42,\n",
    "    n_jobs=-1\n",
    ")"
   ]
  },
  {
   "cell_type": "code",
   "execution_count": 32,
   "metadata": {},
   "outputs": [
    {
     "name": "stdout",
     "output_type": "stream",
     "text": [
      "Wall time: 676 ms\n"
     ]
    },
    {
     "data": {
      "text/plain": [
       "LGBMClassifier(boosting_type='gbdt', class_weight=None, colsample_bytree=1.0,\n",
       "        importance_type='split', learning_rate=0.1, max_depth=-1,\n",
       "        min_child_samples=20, min_child_weight=0.001, min_split_gain=0.0,\n",
       "        n_estimators=100, n_jobs=-1, num_leaves=31, objective=None,\n",
       "        random_state=42, reg_alpha=0.0, reg_lambda=0.0, silent=True,\n",
       "        subsample=1.0, subsample_for_bin=200000, subsample_freq=0)"
      ]
     },
     "execution_count": 32,
     "metadata": {},
     "output_type": "execute_result"
    }
   ],
   "source": [
    "%%time\n",
    "lgbm_clf.fit(train_x, train_y)"
   ]
  },
  {
   "cell_type": "code",
   "execution_count": 33,
   "metadata": {},
   "outputs": [
    {
     "data": {
      "text/plain": [
       "array([1, 4, 1, ..., 3, 2, 3], dtype=int64)"
      ]
     },
     "execution_count": 33,
     "metadata": {},
     "output_type": "execute_result"
    }
   ],
   "source": [
    "test_preds = lgbm_clf.predict(test_x)\n",
    "test_preds"
   ]
  },
  {
   "cell_type": "code",
   "execution_count": 34,
   "metadata": {},
   "outputs": [
    {
     "data": {
      "text/html": [
       "<div>\n",
       "<style scoped>\n",
       "    .dataframe tbody tr th:only-of-type {\n",
       "        vertical-align: middle;\n",
       "    }\n",
       "\n",
       "    .dataframe tbody tr th {\n",
       "        vertical-align: top;\n",
       "    }\n",
       "\n",
       "    .dataframe thead th {\n",
       "        text-align: right;\n",
       "    }\n",
       "</style>\n",
       "<table border=\"1\" class=\"dataframe\">\n",
       "  <thead>\n",
       "    <tr style=\"text-align: right;\">\n",
       "      <th></th>\n",
       "      <th>Class</th>\n",
       "    </tr>\n",
       "  </thead>\n",
       "  <tbody>\n",
       "    <tr>\n",
       "      <th>0</th>\n",
       "      <td>1</td>\n",
       "    </tr>\n",
       "    <tr>\n",
       "      <th>1</th>\n",
       "      <td>4</td>\n",
       "    </tr>\n",
       "    <tr>\n",
       "      <th>2</th>\n",
       "      <td>1</td>\n",
       "    </tr>\n",
       "    <tr>\n",
       "      <th>3</th>\n",
       "      <td>3</td>\n",
       "    </tr>\n",
       "    <tr>\n",
       "      <th>4</th>\n",
       "      <td>4</td>\n",
       "    </tr>\n",
       "  </tbody>\n",
       "</table>\n",
       "</div>"
      ],
      "text/plain": [
       "   Class\n",
       "0      1\n",
       "1      4\n",
       "2      1\n",
       "3      3\n",
       "4      4"
      ]
     },
     "execution_count": 34,
     "metadata": {},
     "output_type": "execute_result"
    }
   ],
   "source": [
    "test_preds_df = pd.DataFrame({'Class': test_preds})\n",
    "test_preds_df.head()"
   ]
  },
  {
   "cell_type": "code",
   "execution_count": 35,
   "metadata": {},
   "outputs": [],
   "source": [
    "test_preds_df.to_csv('submission_ВоробейВладислав.csv', index=False)"
   ]
  },
  {
   "cell_type": "code",
   "execution_count": null,
   "metadata": {},
   "outputs": [],
   "source": []
  }
 ],
 "metadata": {
  "kernelspec": {
   "display_name": "tensorflow",
   "language": "python",
   "name": "tensorflow"
  },
  "language_info": {
   "codemirror_mode": {
    "name": "ipython",
    "version": 3
   },
   "file_extension": ".py",
   "mimetype": "text/x-python",
   "name": "python",
   "nbconvert_exporter": "python",
   "pygments_lexer": "ipython3",
   "version": "3.6.8"
  }
 },
 "nbformat": 4,
 "nbformat_minor": 2
}
